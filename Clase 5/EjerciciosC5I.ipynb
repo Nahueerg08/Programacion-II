{
 "cells": [
  {
   "cell_type": "markdown",
   "metadata": {},
   "source": [
    "Ingresar dos números por teclado a y b. Si a es mayor que b,\n",
    "imprimir ‘Hola Politécnico Malvinas’"
   ]
  },
  {
   "cell_type": "code",
   "execution_count": 2,
   "metadata": {},
   "outputs": [
    {
     "name": "stdout",
     "output_type": "stream",
     "text": [
      "Hola Politecnico Malvinas\n"
     ]
    }
   ],
   "source": [
    "a=int(input(\"Ingrese un numero: \"))\n",
    "b=int(input(\"Ingrese el segundo numero: \"))\n",
    "if a>b:\n",
    "    print(\"Hola Politecnico Malvinas\")\n",
    "else:\n",
    "    print (\"El segundo numero es mayor al primero.\")"
   ]
  },
  {
   "cell_type": "markdown",
   "metadata": {},
   "source": [
    "2.Ingresar dos números por teclado a y b. Si a no es igual a b, imprimir\n",
    "‘Hola Politécnico Malvinas’"
   ]
  },
  {
   "cell_type": "code",
   "execution_count": 4,
   "metadata": {},
   "outputs": [
    {
     "name": "stdout",
     "output_type": "stream",
     "text": [
      "Hola Politecnico Malvinas\n"
     ]
    }
   ],
   "source": [
    "a=int(input(\"Ingrese un numero: \"))\n",
    "b=int(input(\"Ingrese el segundo numero: \"))\n",
    "if a!=b:\n",
    "    print(\"Hola Politecnico Malvinas\")\n",
    "else:\n",
    "    print(\"a y b son iguales\")"
   ]
  },
  {
   "cell_type": "markdown",
   "metadata": {},
   "source": [
    "3. Ingresar dos números por teclado a y b. Si a es igual a b, imprimir\n",
    "‘son iguales’ sino imprimir ‘son distintos’\n",
    "\n"
   ]
  },
  {
   "cell_type": "code",
   "execution_count": 6,
   "metadata": {},
   "outputs": [
    {
     "name": "stdout",
     "output_type": "stream",
     "text": [
      "Son distintos\n"
     ]
    }
   ],
   "source": [
    "a=int(input(\"Ingrese un numero: \"))\n",
    "b=int(input(\"Ingrese el segundo numero: \"))\n",
    "if a==b:\n",
    "    print(\"Son iguales\")\n",
    "else:\n",
    "    print(\"Son distintos\")"
   ]
  },
  {
   "cell_type": "markdown",
   "metadata": {},
   "source": [
    "4. Ingresar dos números por teclado a y b. Si a es igual a b, imprimir 1\n",
    "si a es mayor que b, imprimir 2 sino imprimir 3.\n"
   ]
  },
  {
   "cell_type": "code",
   "execution_count": 7,
   "metadata": {},
   "outputs": [
    {
     "name": "stdout",
     "output_type": "stream",
     "text": [
      "2\n"
     ]
    }
   ],
   "source": [
    "a=int(input(\"Ingrese un numero: \"))\n",
    "b=int(input(\"Ingrese el segundo numero: \"))\n",
    "if a==b:\n",
    "    print(\"1\")\n",
    "elif  a>b:\n",
    "\n",
    "    print(\"2\")\n",
    "else:\n",
    "    print(\"3\")"
   ]
  },
  {
   "cell_type": "markdown",
   "metadata": {},
   "source": [
    "5. Ingrese cuatro números por teclado a, b, c y d. Si a es igual b y c es\n",
    "igual a d, imprimir ‘Hola Politécnico Malvinas’"
   ]
  },
  {
   "cell_type": "code",
   "execution_count": 8,
   "metadata": {},
   "outputs": [
    {
     "name": "stdout",
     "output_type": "stream",
     "text": [
      "Hola Politecnico Malvinas:\n"
     ]
    }
   ],
   "source": [
    "a=int(input(\"Ingrese un numero: \"))\n",
    "b=int(input(\"Ingrese el segundo numero: \"))\n",
    "c=int(input(\"Ingrese el tercer numero: \"))\n",
    "d=int(input(\"Ingrese el cuarto numero: \"))\n",
    "if a==b and c==d:\n",
    "    print(\"Hola Politecnico Malvinas:\")"
   ]
  },
  {
   "cell_type": "markdown",
   "metadata": {},
   "source": [
    "6. Ingrese cuatro números por teclado a, b, c y d. Si a es igual b ó c es\n",
    "igual a d, imprimir ‘Hola Politécnico Malvinas’\n"
   ]
  },
  {
   "cell_type": "code",
   "execution_count": 9,
   "metadata": {},
   "outputs": [
    {
     "name": "stdout",
     "output_type": "stream",
     "text": [
      "Hola Politecnico Malvinas:\n"
     ]
    }
   ],
   "source": [
    "a=int(input(\"Ingrese un numero: \"))\n",
    "b=int(input(\"Ingrese el segundo numero: \"))\n",
    "c=int(input(\"Ingrese el tercer numero: \"))\n",
    "d=int(input(\"Ingrese el cuarto numero: \"))\n",
    "if a==b or c==d:\n",
    "    print(\"Hola Politecnico Malvinas:\")"
   ]
  },
  {
   "cell_type": "markdown",
   "metadata": {},
   "source": [
    "7. Ingresar la edad de una persona por teclado, mostrar por pantalla si\n",
    "es mayor o menor de edad.\n"
   ]
  },
  {
   "cell_type": "code",
   "execution_count": 11,
   "metadata": {},
   "outputs": [
    {
     "name": "stdout",
     "output_type": "stream",
     "text": [
      "Usted es menor de edad.\n"
     ]
    }
   ],
   "source": [
    "edad=int(input(\"Ingrese su edad: \"))\n",
    "if edad >=18:\n",
    "    print (\"Usted es mayor de edad.\")\n",
    "else:\n",
    "    print(\"Usted es menor de edad.\")\n"
   ]
  },
  {
   "cell_type": "markdown",
   "metadata": {},
   "source": [
    "8. Ingresar un número por teclado y mostrar por pantalla si es para o impar."
   ]
  },
  {
   "cell_type": "code",
   "execution_count": 14,
   "metadata": {},
   "outputs": [
    {
     "name": "stdout",
     "output_type": "stream",
     "text": [
      "El numero es par.\n"
     ]
    }
   ],
   "source": [
    "num=int(input(\"Ingrese un numero: \"))\n",
    "if num%2==0:\n",
    "    print(\"El numero es par.\")\n",
    "else:\n",
    "    print(\"El numero es impar.\")"
   ]
  },
  {
   "cell_type": "markdown",
   "metadata": {},
   "source": [
    "9. Ingresar por teclado tres\n",
    "números y mostrar por pantalla el mayor de los tres.\n"
   ]
  },
  {
   "cell_type": "code",
   "execution_count": 16,
   "metadata": {},
   "outputs": [
    {
     "name": "stdout",
     "output_type": "stream",
     "text": [
      "5\n"
     ]
    }
   ],
   "source": [
    "a=int(input(\"Ingrese un numero: \"))\n",
    "b=int(input(\"Ingrese el segundo numero: \"))\n",
    "c=int(input(\"Ingrese el tercer numero: \"))\n",
    "\n",
    "if a>b and a>c:\n",
    "    print(a)\n",
    "elif b>a and b>c:\n",
    "    print(b)\n",
    "else:\n",
    "    print(c)"
   ]
  },
  {
   "cell_type": "markdown",
   "metadata": {},
   "source": [
    "10.Ingresar por teclado un nombre, si la variable nombre, no es nula\n",
    "mostrar por pantalla ‘Bienvenido ‘+ nombre, sino mostrar\n",
    "‘Bienvenido anónimo’"
   ]
  },
  {
   "cell_type": "code",
   "execution_count": 20,
   "metadata": {},
   "outputs": [
    {
     "name": "stdout",
     "output_type": "stream",
     "text": [
      "Bienvenido anonimo.\n"
     ]
    }
   ],
   "source": [
    "nombre=str(input(\"Ingrese su nombre: \"))\n",
    "if nombre==\"\":\n",
    "\n",
    "    print(f\"Bienvenido anonimo.\")\n",
    "else:\n",
    "    print(f\"Bienvenido {nombre}.\")\n"
   ]
  }
 ],
 "metadata": {
  "kernelspec": {
   "display_name": "Python 3",
   "language": "python",
   "name": "python3"
  },
  "language_info": {
   "codemirror_mode": {
    "name": "ipython",
    "version": 3
   },
   "file_extension": ".py",
   "mimetype": "text/x-python",
   "name": "python",
   "nbconvert_exporter": "python",
   "pygments_lexer": "ipython3",
   "version": "3.11.9"
  }
 },
 "nbformat": 4,
 "nbformat_minor": 2
}
